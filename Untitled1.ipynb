{
 "cells": [
  {
   "cell_type": "code",
   "execution_count": 10,
   "metadata": {},
   "outputs": [],
   "source": [
    "import json\n",
    "import requests"
   ]
  },
  {
   "cell_type": "markdown",
   "metadata": {},
   "source": [
    "# GET /hoteis"
   ]
  },
  {
   "cell_type": "code",
   "execution_count": 18,
   "metadata": {},
   "outputs": [],
   "source": [
    "URL = 'http://127.0.0.1:5000'"
   ]
  },
  {
   "cell_type": "code",
   "execution_count": 19,
   "metadata": {},
   "outputs": [],
   "source": [
    "reposta_hoteis = requests.request('GET', URL + '/hoteis')"
   ]
  },
  {
   "cell_type": "raw",
   "metadata": {},
   "source": [
    "reposta_hoteis.status_code"
   ]
  },
  {
   "cell_type": "code",
   "execution_count": 21,
   "metadata": {},
   "outputs": [
    {
     "data": {
      "text/plain": [
       "{'hoteis': [{'hotel_id': 'zion',\n",
       "   'nome': 'Zion Hotel',\n",
       "   'estrelas': 4.5,\n",
       "   'diaria': 690.0,\n",
       "   'cidade': 'Rio de Janeiro',\n",
       "   'site_id': 2},\n",
       "  {'hotel_id': 'luan',\n",
       "   'nome': 'Luan Hotel',\n",
       "   'estrelas': 4.9,\n",
       "   'diaria': 1000.0,\n",
       "   'cidade': 'Rio de Janeiro',\n",
       "   'site_id': 2},\n",
       "  {'hotel_id': 'bravo',\n",
       "   'nome': 'Bravo Hotel',\n",
       "   'estrelas': 4.3,\n",
       "   'diaria': 600.0,\n",
       "   'cidade': 'Rio de Janeiro',\n",
       "   'site_id': 2},\n",
       "  {'hotel_id': 'foxtrot',\n",
       "   'nome': 'Foxtrot Hotel',\n",
       "   'estrelas': 4.8,\n",
       "   'diaria': 990.0,\n",
       "   'cidade': 'Fortaleza',\n",
       "   'site_id': 3}]}"
      ]
     },
     "execution_count": 21,
     "metadata": {},
     "output_type": "execute_result"
    }
   ],
   "source": [
    "reposta_hoteis.json()"
   ]
  },
  {
   "cell_type": "code",
   "execution_count": 17,
   "metadata": {},
   "outputs": [
    {
     "name": "stdout",
     "output_type": "stream",
     "text": [
      "oi\n"
     ]
    }
   ],
   "source": [
    "print(\"oi\")"
   ]
  },
  {
   "cell_type": "code",
   "execution_count": 22,
   "metadata": {},
   "outputs": [
    {
     "ename": "NameError",
     "evalue": "name 'hoteis' is not defined",
     "output_type": "error",
     "traceback": [
      "\u001b[1;31m---------------------------------------------------------------------------\u001b[0m",
      "\u001b[1;31mNameError\u001b[0m                                 Traceback (most recent call last)",
      "\u001b[1;32m<ipython-input-22-c2d01a4ff7c9>\u001b[0m in \u001b[0;36m<module>\u001b[1;34m\u001b[0m\n\u001b[1;32m----> 1\u001b[1;33m \u001b[0mhoteis\u001b[0m\u001b[1;33m[\u001b[0m\u001b[1;34m'hoteis'\u001b[0m\u001b[1;33m]\u001b[0m\u001b[1;33m\u001b[0m\u001b[1;33m\u001b[0m\u001b[0m\n\u001b[0m",
      "\u001b[1;31mNameError\u001b[0m: name 'hoteis' is not defined"
     ]
    }
   ],
   "source": [
    "hoteis['hoteis']"
   ]
  },
  {
   "cell_type": "code",
   "execution_count": null,
   "metadata": {},
   "outputs": [],
   "source": []
  }
 ],
 "metadata": {
  "kernelspec": {
   "display_name": "Python 3",
   "language": "python",
   "name": "python3"
  },
  "language_info": {
   "codemirror_mode": {
    "name": "ipython",
    "version": 3
   },
   "file_extension": ".py",
   "mimetype": "text/x-python",
   "name": "python",
   "nbconvert_exporter": "python",
   "pygments_lexer": "ipython3",
   "version": "3.7.4"
  }
 },
 "nbformat": 4,
 "nbformat_minor": 2
}
