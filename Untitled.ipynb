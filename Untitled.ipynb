{
 "cells": [
  {
   "cell_type": "code",
   "execution_count": 1,
   "metadata": {},
   "outputs": [],
   "source": [
    "import json\n",
    "import requests\n"
   ]
  },
  {
   "cell_type": "markdown",
   "metadata": {},
   "source": [
    "#GET /hoteis\n"
   ]
  },
  {
   "cell_type": "code",
   "execution_count": 2,
   "metadata": {},
   "outputs": [],
   "source": [
    "URL = 'http://127.0.0.1:5000'"
   ]
  },
  {
   "cell_type": "code",
   "execution_count": 3,
   "metadata": {},
   "outputs": [],
   "source": [
    "resposta_hoteis = requests.request('GET', URL + '/hoteis')"
   ]
  },
  {
   "cell_type": "code",
   "execution_count": 4,
   "metadata": {},
   "outputs": [
    {
     "data": {
      "text/plain": [
       "200"
      ]
     },
     "execution_count": 4,
     "metadata": {},
     "output_type": "execute_result"
    }
   ],
   "source": [
    "resposta_hoteis.status_code"
   ]
  },
  {
   "cell_type": "code",
   "execution_count": 10,
   "metadata": {},
   "outputs": [],
   "source": [
    "hoteis = resposta_hoteis.json()"
   ]
  },
  {
   "cell_type": "code",
   "execution_count": 14,
   "metadata": {},
   "outputs": [
    {
     "data": {
      "text/plain": [
       "{'hotel_id': 'zion',\n",
       " 'nome': 'Zion Hotel',\n",
       " 'estrelas': 4.5,\n",
       " 'diaria': 690.0,\n",
       " 'cidade': 'Rio de Janeiro',\n",
       " 'site_id': 2}"
      ]
     },
     "execution_count": 14,
     "metadata": {},
     "output_type": "execute_result"
    }
   ],
   "source": [
    "hoteis['hoteis'][0]"
   ]
  },
  {
   "cell_type": "code",
   "execution_count": 12,
   "metadata": {},
   "outputs": [
    {
     "data": {
      "text/plain": [
       "{'hoteis': [{'hotel_id': 'zion',\n",
       "   'nome': 'Zion Hotel',\n",
       "   'estrelas': 4.5,\n",
       "   'diaria': 690.0,\n",
       "   'cidade': 'Rio de Janeiro',\n",
       "   'site_id': 2},\n",
       "  {'hotel_id': 'luan',\n",
       "   'nome': 'Luan Hotel',\n",
       "   'estrelas': 4.9,\n",
       "   'diaria': 1000.0,\n",
       "   'cidade': 'Rio de Janeiro',\n",
       "   'site_id': 2},\n",
       "  {'hotel_id': 'bravo',\n",
       "   'nome': 'Bravo Hotel',\n",
       "   'estrelas': 4.3,\n",
       "   'diaria': 600.0,\n",
       "   'cidade': 'Rio de Janeiro',\n",
       "   'site_id': 2},\n",
       "  {'hotel_id': 'foxtrot',\n",
       "   'nome': 'Foxtrot Hotel',\n",
       "   'estrelas': 4.8,\n",
       "   'diaria': 990.0,\n",
       "   'cidade': 'Fortaleza',\n",
       "   'site_id': 3}]}"
      ]
     },
     "execution_count": 12,
     "metadata": {},
     "output_type": "execute_result"
    }
   ],
   "source": [
    "hoteis"
   ]
  },
  {
   "cell_type": "markdown",
   "metadata": {},
   "source": [
    "# Mercado Livre"
   ]
  },
  {
   "cell_type": "code",
   "execution_count": 15,
   "metadata": {},
   "outputs": [],
   "source": [
    "ML_URL = 'https://api.mercadolibre.com/sites'"
   ]
  },
  {
   "cell_type": "code",
   "execution_count": 16,
   "metadata": {},
   "outputs": [],
   "source": [
    "lista_sites = requests.request('GET', ML_URL)"
   ]
  },
  {
   "cell_type": "code",
   "execution_count": 17,
   "metadata": {},
   "outputs": [
    {
     "data": {
      "text/plain": [
       "<Response [200]>"
      ]
     },
     "execution_count": 17,
     "metadata": {},
     "output_type": "execute_result"
    }
   ],
   "source": [
    "lista_sites"
   ]
  },
  {
   "cell_type": "code",
   "execution_count": 18,
   "metadata": {},
   "outputs": [
    {
     "data": {
      "text/plain": [
       "[{'default_currency_id': 'USD', 'id': 'MSV', 'name': 'El Salvador'},\n",
       " {'default_currency_id': 'NIO', 'id': 'MNI', 'name': 'Nicaragua'},\n",
       " {'default_currency_id': 'MXN', 'id': 'MLM', 'name': 'Mexico'},\n",
       " {'default_currency_id': 'DOP', 'id': 'MRD', 'name': 'Dominicana'},\n",
       " {'default_currency_id': 'BRL', 'id': 'MLB', 'name': 'Brasil'},\n",
       " {'default_currency_id': 'PYG', 'id': 'MPY', 'name': 'Paraguay'},\n",
       " {'default_currency_id': 'PAB', 'id': 'MPA', 'name': 'Panamá'},\n",
       " {'default_currency_id': 'PEN', 'id': 'MPE', 'name': 'Perú'},\n",
       " {'default_currency_id': 'CUP', 'id': 'MCU', 'name': 'Cuba'},\n",
       " {'default_currency_id': 'EUR', 'id': 'MPT', 'name': 'Portugal'},\n",
       " {'default_currency_id': 'CLP', 'id': 'MLC', 'name': 'Chile'},\n",
       " {'default_currency_id': 'GTQ', 'id': 'MGT', 'name': 'Guatemala'},\n",
       " {'default_currency_id': 'COP', 'id': 'MCO', 'name': 'Colombia'},\n",
       " {'default_currency_id': 'CRC', 'id': 'MCR', 'name': 'Costa Rica'},\n",
       " {'default_currency_id': 'HNL', 'id': 'MHN', 'name': 'Honduras'},\n",
       " {'default_currency_id': 'USD', 'id': 'MEC', 'name': 'Ecuador'},\n",
       " {'default_currency_id': 'VES', 'id': 'MLV', 'name': 'Venezuela'},\n",
       " {'default_currency_id': 'UYU', 'id': 'MLU', 'name': 'Uruguay'},\n",
       " {'default_currency_id': 'BOB', 'id': 'MBO', 'name': 'Bolivia'},\n",
       " {'default_currency_id': 'ARS', 'id': 'MLA', 'name': 'Argentina'}]"
      ]
     },
     "execution_count": 18,
     "metadata": {},
     "output_type": "execute_result"
    }
   ],
   "source": [
    "lista_sites.json()"
   ]
  },
  {
   "cell_type": "code",
   "execution_count": null,
   "metadata": {},
   "outputs": [],
   "source": []
  }
 ],
 "metadata": {
  "kernelspec": {
   "display_name": "Python 3",
   "language": "python",
   "name": "python3"
  },
  "language_info": {
   "codemirror_mode": {
    "name": "ipython",
    "version": 3
   },
   "file_extension": ".py",
   "mimetype": "text/x-python",
   "name": "python",
   "nbconvert_exporter": "python",
   "pygments_lexer": "ipython3",
   "version": "3.7.4"
  }
 },
 "nbformat": 4,
 "nbformat_minor": 2
}
